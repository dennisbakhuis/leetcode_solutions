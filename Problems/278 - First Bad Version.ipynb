{
 "cells": [
  {
   "cell_type": "markdown",
   "id": "b421d95e-500c-4490-ab88-c85e79d2d8d8",
   "metadata": {},
   "source": [
    "# 278. First Bad Version\n",
    "Link: https://leetcode.com/problems/first-bad-version/ \\\n",
    "Difficulty: easy\n",
    "***\n",
    "You are a product manager and currently leading a team to develop a new product. Unfortunately, the latest version of your product fails the quality check. Since each version is developed based on the previous version, all the versions after a bad version are also bad.\n",
    "\n",
    "Suppose you have n versions [1, 2, ..., n] and you want to find out the first bad one, which causes all the following ones to be bad.\n",
    "\n",
    "You are given an API bool isBadVersion(version) which returns whether version is bad. Implement a function to find the first bad version. You should minimize the number of calls to the API.\n",
    "\n",
    " \n",
    "\n",
    "Example 1:\n",
    "```\n",
    "Input: n = 5, bad = 4\n",
    "Output: 4\n",
    "Explanation:\n",
    "call isBadVersion(3) -> false\n",
    "call isBadVersion(5) -> true\n",
    "call isBadVersion(4) -> true\n",
    "Then 4 is the first bad version.\n",
    "```\n",
    "Example 2:\n",
    "```\n",
    "Input: n = 1, bad = 1\n",
    "Output: 1\n",
    "```\n",
    " \n",
    "\n",
    "Constraints:\n",
    "- 1 <= bad <= n <= 231 - 1\n"
   ]
  },
  {
   "cell_type": "code",
   "execution_count": 51,
   "id": "36d8ccd1-f3db-447d-ab81-74e41034b613",
   "metadata": {},
   "outputs": [],
   "source": [
    "# The isBadVersion API is already defined for you.\n",
    "# def isBadVersion(version: int) -> bool:\n",
    "\n",
    "class Solution:\n",
    "    def firstBadVersion(self, n: int) -> int:\n",
    "        pass"
   ]
  },
  {
   "cell_type": "code",
   "execution_count": null,
   "id": "56536bb0-5a66-42af-935c-00ed9eb90b48",
   "metadata": {},
   "outputs": [],
   "source": []
  },
  {
   "cell_type": "code",
   "execution_count": null,
   "id": "b239edd9-8f15-49aa-a137-02a36f5e9cc8",
   "metadata": {},
   "outputs": [],
   "source": []
  },
  {
   "cell_type": "markdown",
   "id": "88e95846-dfbc-439f-888f-f4cda6fc326a",
   "metadata": {},
   "source": [
    "# 1. Solution"
   ]
  },
  {
   "cell_type": "markdown",
   "id": "a13b2577-53d5-4b4c-85e8-4fd1fe0f3d39",
   "metadata": {},
   "source": [
    "#### Code"
   ]
  },
  {
   "cell_type": "code",
   "execution_count": 52,
   "id": "05aec893-e5be-409f-a021-433c58323a39",
   "metadata": {},
   "outputs": [],
   "source": [
    "class Solution:\n",
    "    def firstBadVersion(self, n: int) -> int:\n",
    "        l, r = 0, n\n",
    "        while l != r:\n",
    "            m = (l + r) // 2\n",
    "            if not isBadVersion(m):\n",
    "                l = m + 1\n",
    "            else:\n",
    "                r = m\n",
    "        if isBadVersion(l):\n",
    "            return l\n",
    "        return -1"
   ]
  },
  {
   "cell_type": "code",
   "execution_count": null,
   "id": "12146a61-d1b5-4039-8233-3f2c7233e95d",
   "metadata": {},
   "outputs": [],
   "source": []
  },
  {
   "cell_type": "code",
   "execution_count": null,
   "id": "2429defc-98f0-4d40-94a6-9683f5d92ee7",
   "metadata": {},
   "outputs": [],
   "source": []
  },
  {
   "cell_type": "markdown",
   "id": "9f2bd30c-fe5c-40c3-a19d-f307a9e33efc",
   "metadata": {},
   "source": [
    "#### Test"
   ]
  },
  {
   "cell_type": "markdown",
   "id": "a6b6780f-75e0-4f4b-aa39-57c233b688ae",
   "metadata": {},
   "source": [
    "Not straight forward to test..."
   ]
  },
  {
   "cell_type": "code",
   "execution_count": null,
   "id": "adebedee-e4a3-450a-b479-6b86edbe67f1",
   "metadata": {},
   "outputs": [],
   "source": []
  },
  {
   "cell_type": "code",
   "execution_count": null,
   "id": "59c7253b-2b9d-4e8d-8b0c-4a952e1c7514",
   "metadata": {},
   "outputs": [],
   "source": []
  },
  {
   "cell_type": "markdown",
   "id": "224f9de8-8f4e-463c-932e-46caa6d6ee1e",
   "metadata": {},
   "source": [
    "# Final score"
   ]
  },
  {
   "cell_type": "markdown",
   "id": "bebb8641-99da-452a-9853-d3dab35e13db",
   "metadata": {},
   "source": [
    "![Score](../Assets/278%20-%20Leetcode%20scoring%20screenshot.png)"
   ]
  },
  {
   "cell_type": "code",
   "execution_count": null,
   "id": "6759ac10-e3d0-43c2-92c3-545f8a7f2f27",
   "metadata": {},
   "outputs": [],
   "source": []
  },
  {
   "cell_type": "code",
   "execution_count": null,
   "id": "1552e7b2-1a19-4444-b8db-d74a86eff520",
   "metadata": {},
   "outputs": [],
   "source": []
  },
  {
   "cell_type": "code",
   "execution_count": null,
   "id": "67458c90-1207-4575-b80b-212696365fdb",
   "metadata": {},
   "outputs": [],
   "source": []
  },
  {
   "cell_type": "code",
   "execution_count": null,
   "id": "0be3d75e-4925-4f03-a5d4-3989899f9c8b",
   "metadata": {},
   "outputs": [],
   "source": []
  },
  {
   "cell_type": "code",
   "execution_count": null,
   "id": "e7cb2363-e0d0-4b74-b786-ed93ae5daf19",
   "metadata": {},
   "outputs": [],
   "source": []
  }
 ],
 "metadata": {
  "kernelspec": {
   "display_name": "Python 3 (ipykernel)",
   "language": "python",
   "name": "python3"
  },
  "language_info": {
   "codemirror_mode": {
    "name": "ipython",
    "version": 3
   },
   "file_extension": ".py",
   "mimetype": "text/x-python",
   "name": "python",
   "nbconvert_exporter": "python",
   "pygments_lexer": "ipython3",
   "version": "3.10.4"
  }
 },
 "nbformat": 4,
 "nbformat_minor": 5
}
