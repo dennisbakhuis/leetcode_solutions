{
 "cells": [
  {
   "cell_type": "markdown",
   "id": "b421d95e-500c-4490-ab88-c85e79d2d8d8",
   "metadata": {},
   "source": [
    "# 704. Binary Search\n",
    "Link: https://leetcode.com/problems/binary-search/ \\\n",
    "Difficulty: easy\n",
    "***\n",
    "Given an array of integers nums which is sorted in ascending order, and an integer target, write a function to search target in nums. If target exists, then return its index. Otherwise, return -1.\n",
    "\n",
    "You must write an algorithm with O(log n) runtime complexity.\n",
    "\n",
    " \n",
    "\n",
    "Example 1:\n",
    "```\n",
    "Input: nums = [-1,0,3,5,9,12], target = 9\n",
    "Output: 4\n",
    "Explanation: 9 exists in nums and its index is 4\n",
    "```\n",
    "Example 2:\n",
    "```\n",
    "Input: nums = [-1,0,3,5,9,12], target = 2\n",
    "Output: -1\n",
    "Explanation: 2 does not exist in nums so return -1\n",
    "```\n",
    " \n",
    "\n",
    "Constraints:\n",
    "- 1 <= nums.length <= 104\n",
    "- -104 < nums[i], target < 104\n",
    "- All the integers in nums are unique.\n",
    "- nums is sorted in ascending order.\n",
    "\n",
    "\n",
    "\n"
   ]
  },
  {
   "cell_type": "code",
   "execution_count": 1,
   "id": "fe68a930-2823-4bb5-93b4-25dd210fde8f",
   "metadata": {},
   "outputs": [],
   "source": [
    "from typing import List"
   ]
  },
  {
   "cell_type": "code",
   "execution_count": 2,
   "id": "36d8ccd1-f3db-447d-ab81-74e41034b613",
   "metadata": {},
   "outputs": [],
   "source": [
    "class Solution:\n",
    "    def search(self, nums: List[int], target: int) -> int:\n",
    "        pass"
   ]
  },
  {
   "cell_type": "code",
   "execution_count": null,
   "id": "56536bb0-5a66-42af-935c-00ed9eb90b48",
   "metadata": {},
   "outputs": [],
   "source": []
  },
  {
   "cell_type": "code",
   "execution_count": null,
   "id": "b239edd9-8f15-49aa-a137-02a36f5e9cc8",
   "metadata": {},
   "outputs": [],
   "source": []
  },
  {
   "cell_type": "markdown",
   "id": "88e95846-dfbc-439f-888f-f4cda6fc326a",
   "metadata": {},
   "source": [
    "# 1. Solution"
   ]
  },
  {
   "cell_type": "markdown",
   "id": "a13b2577-53d5-4b4c-85e8-4fd1fe0f3d39",
   "metadata": {},
   "source": [
    "#### Code"
   ]
  },
  {
   "cell_type": "code",
   "execution_count": 22,
   "id": "28c22ef5-2120-442b-bc68-9ad9be41de16",
   "metadata": {},
   "outputs": [],
   "source": [
    "class Solution:\n",
    "    def search(self, nums: List[int], target: int) -> int:\n",
    "        l, r = 0, len(nums) - 1\n",
    "        while l != r:\n",
    "            m = (l + r) // 2\n",
    "            if nums[m] < target:\n",
    "                l = m + 1\n",
    "            else:\n",
    "                r = m\n",
    "        if nums[l] == target:\n",
    "            return l\n",
    "        return -1\n",
    "            \n",
    "        "
   ]
  },
  {
   "cell_type": "code",
   "execution_count": null,
   "id": "05aec893-e5be-409f-a021-433c58323a39",
   "metadata": {},
   "outputs": [],
   "source": []
  },
  {
   "cell_type": "code",
   "execution_count": null,
   "id": "2429defc-98f0-4d40-94a6-9683f5d92ee7",
   "metadata": {},
   "outputs": [],
   "source": []
  },
  {
   "cell_type": "markdown",
   "id": "9f2bd30c-fe5c-40c3-a19d-f307a9e33efc",
   "metadata": {},
   "source": [
    "#### Test"
   ]
  },
  {
   "cell_type": "code",
   "execution_count": 46,
   "id": "e4d6e74a-e2cb-4d75-9239-74f07f6586b1",
   "metadata": {},
   "outputs": [],
   "source": [
    "nums = [-1,0,1,3]\n",
    "target = 3"
   ]
  },
  {
   "cell_type": "code",
   "execution_count": 47,
   "id": "e0862f33-2024-442b-b5a6-a7459b5f0d23",
   "metadata": {},
   "outputs": [
    {
     "data": {
      "text/plain": [
       "3"
      ]
     },
     "execution_count": 47,
     "metadata": {},
     "output_type": "execute_result"
    }
   ],
   "source": [
    "sol = Solution()\n",
    "sol.search(nums, target)"
   ]
  },
  {
   "cell_type": "code",
   "execution_count": null,
   "id": "edf8bb79-7340-405e-b70e-00b8f9b0d97d",
   "metadata": {},
   "outputs": [],
   "source": []
  },
  {
   "cell_type": "code",
   "execution_count": null,
   "id": "adebedee-e4a3-450a-b479-6b86edbe67f1",
   "metadata": {},
   "outputs": [],
   "source": []
  },
  {
   "cell_type": "markdown",
   "id": "600ab852-e5f3-415d-a094-f8d58661215b",
   "metadata": {},
   "source": [
    "# 2. Solution"
   ]
  },
  {
   "cell_type": "markdown",
   "id": "b0081e4f-4763-427f-ae1c-2d55da50a4df",
   "metadata": {},
   "source": [
    "#### Code"
   ]
  },
  {
   "cell_type": "code",
   "execution_count": 42,
   "id": "85e07ccc-4858-4dd1-8877-f3b9423e2b8a",
   "metadata": {},
   "outputs": [],
   "source": [
    "from bisect import bisect_left  # from standard library (-:\n",
    "# yes, I would consider this cheating (-:\n",
    "\n",
    "\n",
    "class Solution:\n",
    "    def search(self, nums: List[int], target: int) -> int:\n",
    "        ix = bisect_left(nums, target)\n",
    "        if ix < len(nums) and nums[ix] == target:\n",
    "            return ix\n",
    "        return -1"
   ]
  },
  {
   "cell_type": "code",
   "execution_count": null,
   "id": "d313963b-cc2b-4248-a972-b2eb588459ec",
   "metadata": {},
   "outputs": [],
   "source": []
  },
  {
   "cell_type": "code",
   "execution_count": 43,
   "id": "9e501819-572b-4576-9ad2-b70fdb1fbcb6",
   "metadata": {},
   "outputs": [],
   "source": [
    "nums = [-1,0,3,5,9,12]\n",
    "target = 2"
   ]
  },
  {
   "cell_type": "code",
   "execution_count": 45,
   "id": "a429f6a2-54da-45ff-9787-230ed834c6ad",
   "metadata": {},
   "outputs": [
    {
     "data": {
      "text/plain": [
       "-1"
      ]
     },
     "execution_count": 45,
     "metadata": {},
     "output_type": "execute_result"
    }
   ],
   "source": [
    "sol = Solution()\n",
    "sol.search(nums, target)"
   ]
  },
  {
   "cell_type": "code",
   "execution_count": null,
   "id": "ecb3d8e8-84ae-43f4-bcdc-9de33074a37e",
   "metadata": {},
   "outputs": [],
   "source": []
  },
  {
   "cell_type": "code",
   "execution_count": null,
   "id": "27cdd1aa-8e71-4b53-92c0-89d76fa1b948",
   "metadata": {},
   "outputs": [],
   "source": []
  },
  {
   "cell_type": "markdown",
   "id": "c7815b61-e0d3-4f5d-8d0c-b593022e771c",
   "metadata": {},
   "source": [
    "# Final score"
   ]
  },
  {
   "cell_type": "markdown",
   "id": "08960c71-79f6-4fa3-9f9f-3b6e6759f65a",
   "metadata": {},
   "source": [
    "![Score](../Assets/704%20-%20Leetcode%20scoring%20screenshot.png)"
   ]
  },
  {
   "cell_type": "code",
   "execution_count": null,
   "id": "e7cb2363-e0d0-4b74-b786-ed93ae5daf19",
   "metadata": {},
   "outputs": [],
   "source": []
  }
 ],
 "metadata": {
  "kernelspec": {
   "display_name": "Python 3 (ipykernel)",
   "language": "python",
   "name": "python3"
  },
  "language_info": {
   "codemirror_mode": {
    "name": "ipython",
    "version": 3
   },
   "file_extension": ".py",
   "mimetype": "text/x-python",
   "name": "python",
   "nbconvert_exporter": "python",
   "pygments_lexer": "ipython3",
   "version": "3.10.4"
  }
 },
 "nbformat": 4,
 "nbformat_minor": 5
}
