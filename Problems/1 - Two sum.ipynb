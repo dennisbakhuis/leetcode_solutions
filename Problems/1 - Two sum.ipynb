{
 "cells": [
  {
   "cell_type": "markdown",
   "id": "41dd041f-9695-4457-8add-94a28ede762c",
   "metadata": {},
   "source": [
    "# 1. Two Sum\n",
    "Link: https://leetcode.com/problems/two-sum/ \\\n",
    "Difficulty: easy\n",
    "***\n",
    "Given an array of integers nums and an integer target, return indices of the two numbers such that they add up to target.\n",
    "\n",
    "You may assume that each input would have exactly one solution, and you may not use the same element twice.\n",
    "\n",
    "You can return the answer in any order.\n",
    "\n",
    " \n",
    "\n",
    "Example 1:\n",
    "```\n",
    "Input: nums = [2,7,11,15], target = 9\n",
    "Output: [0,1]\n",
    "Explanation: Because nums[0] + nums[1] == 9, we return [0, 1].\n",
    "```\n",
    "Example 2:\n",
    "```\n",
    "Input: nums = [3,2,4], target = 6\n",
    "Output: [1,2]\n",
    "```\n",
    "Example 3:\n",
    "```\n",
    "Input: nums = [3,3], target = 6\n",
    "Output: [0,1]\n",
    "```\n",
    " \n",
    "\n",
    "Constraints:\n",
    "\n",
    "- 2 <= nums.length <= 104\n",
    "- -109 <= nums[i] <= 109\n",
    "- -109 <= target <= 109\n",
    "- Only one valid answer exists.\n",
    "\n",
    " \n",
    "Follow-up: Can you come up with an algorithm that is less than O(n2) time complexity?"
   ]
  },
  {
   "cell_type": "code",
   "execution_count": null,
   "id": "3425b155-dac9-4a00-9aa6-18a6fb9e521e",
   "metadata": {},
   "outputs": [],
   "source": [
    "class Solution:\n",
    "    def twoSum(self, nums: List[int], target: int) -> List[int]:\n",
    "        pass"
   ]
  },
  {
   "cell_type": "code",
   "execution_count": null,
   "id": "945cc45c-2d27-47b4-bdf2-ee9a6e6a23d0",
   "metadata": {},
   "outputs": [],
   "source": []
  },
  {
   "cell_type": "code",
   "execution_count": null,
   "id": "6766a014-8abd-413f-94c1-b13c4cbb4d6c",
   "metadata": {},
   "outputs": [],
   "source": []
  },
  {
   "cell_type": "markdown",
   "id": "fbad7b47-eb71-49ff-806b-51da07c5aa4b",
   "metadata": {},
   "source": [
    "# 1. Solution"
   ]
  },
  {
   "cell_type": "markdown",
   "id": "2a5c4e7a-4a34-4e9b-ad45-96f106355892",
   "metadata": {},
   "source": [
    "#### Code"
   ]
  },
  {
   "cell_type": "code",
   "execution_count": 22,
   "id": "bbfb9893-1347-471a-a01b-e5939aebe550",
   "metadata": {},
   "outputs": [],
   "source": [
    "from typing import List"
   ]
  },
  {
   "cell_type": "code",
   "execution_count": null,
   "id": "28c22ef5-2120-442b-bc68-9ad9be41de16",
   "metadata": {},
   "outputs": [],
   "source": [
    "class Solution:\n",
    "    def twoSum(self, nums: List[int], target: int) -> List[int]:\n",
    "        for ix, a in enumerate(nums):\n",
    "            for iy, b in enumerate(nums[ix:], start=ix):\n",
    "                if ix != iy and a + b == target:\n",
    "                    return (ix, iy)\n"
   ]
  },
  {
   "cell_type": "code",
   "execution_count": null,
   "id": "bcbf18da-b89a-4c70-a99c-bcfe74f99103",
   "metadata": {},
   "outputs": [],
   "source": []
  },
  {
   "cell_type": "code",
   "execution_count": null,
   "id": "bcaafb4f-2fa1-4927-85cf-6c7a64d3c310",
   "metadata": {},
   "outputs": [],
   "source": []
  },
  {
   "cell_type": "markdown",
   "id": "e5a56559-1347-442f-89b2-cc7225c63b00",
   "metadata": {},
   "source": [
    "#### Test"
   ]
  },
  {
   "cell_type": "code",
   "execution_count": 20,
   "id": "8c71cd12-a2fd-4fcf-915d-46fede883fe5",
   "metadata": {},
   "outputs": [],
   "source": [
    "nums = [11, 1, 2, 7,15]\n",
    "target = 9\n",
    "\n",
    "sol = Solution()"
   ]
  },
  {
   "cell_type": "code",
   "execution_count": 21,
   "id": "73bbd8cb-68df-487f-80b3-4e0e8e92d050",
   "metadata": {},
   "outputs": [
    {
     "name": "stdout",
     "output_type": "stream",
     "text": [
      "1.36 µs ± 6.63 ns per loop (mean ± std. dev. of 7 runs, 1,000,000 loops each)\n"
     ]
    }
   ],
   "source": [
    "%%timeit\n",
    "sol.twoSum(nums, target)"
   ]
  },
  {
   "cell_type": "code",
   "execution_count": null,
   "id": "9a4db734-deea-4c5b-90e2-c22661f7116b",
   "metadata": {},
   "outputs": [],
   "source": []
  },
  {
   "cell_type": "code",
   "execution_count": null,
   "id": "5bbbb019-9d5d-4394-b5e9-2c1be2d2036c",
   "metadata": {},
   "outputs": [],
   "source": []
  },
  {
   "cell_type": "markdown",
   "id": "fda92b7e-8457-4bcf-9b79-c2c5ea6360e0",
   "metadata": {},
   "source": [
    "# 2. Solution"
   ]
  },
  {
   "cell_type": "markdown",
   "id": "29bdb6ba-35b9-4e75-9924-6495a21e7776",
   "metadata": {},
   "source": [
    "#### Code"
   ]
  },
  {
   "cell_type": "code",
   "execution_count": 142,
   "id": "2fbeabc8-da77-4ef6-9302-949e30242634",
   "metadata": {},
   "outputs": [],
   "source": [
    "class Solution:    \n",
    "    def twoSum(self, nums: List[int], target: int) -> List[int]:\n",
    "        options = [\n",
    "            (x, target - x, ix) \n",
    "            for ix, x in enumerate(nums)\n",
    "            if target - x in nums\n",
    "        ]\n",
    "\n",
    "        for ix, (val1, proc1, ix1) in enumerate(options):\n",
    "            for iy, (val2, proc2, ix2) in enumerate(options[ix + 1:], start=ix+1):\n",
    "                if val1 == proc2:\n",
    "                    return (ix1, ix2)"
   ]
  },
  {
   "cell_type": "code",
   "execution_count": null,
   "id": "2e451f05-df5d-4f68-924f-717500cdf089",
   "metadata": {},
   "outputs": [],
   "source": []
  },
  {
   "cell_type": "code",
   "execution_count": null,
   "id": "74c4ffd4-072c-4f3d-b02d-9a19693eb9a1",
   "metadata": {},
   "outputs": [],
   "source": []
  },
  {
   "cell_type": "markdown",
   "id": "093b0426-4586-4373-87e9-d88bc6a3a399",
   "metadata": {},
   "source": [
    "#### Test"
   ]
  },
  {
   "cell_type": "code",
   "execution_count": 143,
   "id": "e0653e71-12b4-4beb-9fa6-35f54e5b7ed9",
   "metadata": {},
   "outputs": [],
   "source": [
    "nums = [11, 1, 2, 7,15]\n",
    "target = 9\n",
    "\n",
    "sol = Solution()"
   ]
  },
  {
   "cell_type": "code",
   "execution_count": 144,
   "id": "4320a6a4-ca30-4dbb-be18-0c564b6f8303",
   "metadata": {},
   "outputs": [
    {
     "name": "stdout",
     "output_type": "stream",
     "text": [
      "1.27 µs ± 30.8 ns per loop (mean ± std. dev. of 7 runs, 1,000,000 loops each)\n"
     ]
    }
   ],
   "source": [
    "%%timeit\n",
    "sol.twoSum(nums, target)"
   ]
  },
  {
   "cell_type": "code",
   "execution_count": null,
   "id": "e63c0aff-7c2c-41b5-9d08-d00b52b21fdb",
   "metadata": {},
   "outputs": [],
   "source": []
  },
  {
   "cell_type": "code",
   "execution_count": null,
   "id": "5b6a6d0d-7264-422b-aeb8-9ae6c0b56f21",
   "metadata": {},
   "outputs": [],
   "source": []
  },
  {
   "cell_type": "markdown",
   "id": "1af111e0-9801-4600-8673-f8b472ae2b8c",
   "metadata": {},
   "source": [
    "# 3. Solution"
   ]
  },
  {
   "cell_type": "markdown",
   "id": "384d0bf5-16a9-4b23-9eef-f7a9ab1d99d1",
   "metadata": {},
   "source": [
    "#### Code"
   ]
  },
  {
   "cell_type": "code",
   "execution_count": 139,
   "id": "c1829055-fa60-4a8a-b4e6-25b8ef4b3b9f",
   "metadata": {},
   "outputs": [],
   "source": [
    "# b = target - a\n",
    "class Solution:    \n",
    "    def twoSum(self, nums: List[int], target: int) -> List[int]:\n",
    "        for ix, x in enumerate(nums):\n",
    "            if (\n",
    "                target - x in nums[:ix]\n",
    "                or target - x in nums[ix + 1:]\n",
    "            ):\n",
    "                ix1 = ix\n",
    "                break\n",
    "        for ix, x in enumerate(nums[ix + 1:], start=ix + 1):\n",
    "            if (\n",
    "                target - x in nums[:ix]\n",
    "                or target - x in nums[ix + 1:]\n",
    "            ):\n",
    "                return (ix1, ix)\n",
    "\n",
    "\n",
    "        "
   ]
  },
  {
   "cell_type": "code",
   "execution_count": null,
   "id": "8ddd6020-472c-4aca-946e-8c432432da03",
   "metadata": {},
   "outputs": [],
   "source": []
  },
  {
   "cell_type": "code",
   "execution_count": null,
   "id": "171bef6a-bed2-497f-8864-ad11444be04a",
   "metadata": {},
   "outputs": [],
   "source": []
  },
  {
   "cell_type": "markdown",
   "id": "2000af37-dd7a-4aab-9649-7393d7b3b0ca",
   "metadata": {},
   "source": [
    "#### Test"
   ]
  },
  {
   "cell_type": "code",
   "execution_count": 140,
   "id": "7fdd8f98-a2c1-4086-8880-cef3ecb285e2",
   "metadata": {},
   "outputs": [
    {
     "data": {
      "text/plain": [
       "(2, 3)"
      ]
     },
     "execution_count": 140,
     "metadata": {},
     "output_type": "execute_result"
    }
   ],
   "source": [
    "nums = [11, 1, 2, 7,15]\n",
    "target = 9\n",
    "\n",
    "sol = Solution()\n",
    "sol.twoSum(nums, target)"
   ]
  },
  {
   "cell_type": "code",
   "execution_count": 141,
   "id": "c99ad4f6-e648-4bc7-b645-4fcfba529ab0",
   "metadata": {},
   "outputs": [
    {
     "name": "stdout",
     "output_type": "stream",
     "text": [
      "1.13 µs ± 13.6 ns per loop (mean ± std. dev. of 7 runs, 1,000,000 loops each)\n"
     ]
    }
   ],
   "source": [
    "%%timeit\n",
    "sol.twoSum(nums, target)"
   ]
  },
  {
   "cell_type": "code",
   "execution_count": null,
   "id": "e8ac3469-0e16-4756-993a-67a49d40bd81",
   "metadata": {},
   "outputs": [],
   "source": []
  },
  {
   "cell_type": "code",
   "execution_count": null,
   "id": "a4c74158-65b4-4181-a404-14825dc61282",
   "metadata": {},
   "outputs": [],
   "source": []
  },
  {
   "cell_type": "markdown",
   "id": "c2451a22-fadc-4d21-a6e5-f236f3456d07",
   "metadata": {},
   "source": [
    "# 4. Solution"
   ]
  },
  {
   "cell_type": "markdown",
   "id": "104c486d-8fd6-446f-8bf1-768f0ef4355f",
   "metadata": {},
   "source": [
    "#### Code"
   ]
  },
  {
   "cell_type": "code",
   "execution_count": 178,
   "id": "3c7cc2d8-55aa-4e8a-8f78-6281ab3bf0ae",
   "metadata": {},
   "outputs": [],
   "source": [
    "class Solution:\n",
    "    def twoSum(self, nums: List[int], target: int) -> List[int]:\n",
    "        options = {\n",
    "            target - val: ix \n",
    "            for ix, val in enumerate(nums)\n",
    "        }\n",
    "        \n",
    "        for ix, val in enumerate(nums):\n",
    "            if val in options:\n",
    "                if options[val] != ix:\n",
    "                    return (ix, options[val])\n"
   ]
  },
  {
   "cell_type": "code",
   "execution_count": null,
   "id": "d55bba4b-7c2f-438b-bdf5-750779b3421a",
   "metadata": {},
   "outputs": [],
   "source": []
  },
  {
   "cell_type": "code",
   "execution_count": null,
   "id": "d220c7b8-5b34-4265-bbde-79a10327b7df",
   "metadata": {},
   "outputs": [],
   "source": []
  },
  {
   "cell_type": "markdown",
   "id": "e9c335d7-850f-4b85-aaa4-12a946d6a6ac",
   "metadata": {},
   "source": [
    "#### Test"
   ]
  },
  {
   "cell_type": "code",
   "execution_count": 181,
   "id": "21c9ec06-ffea-4c99-864d-94dad3e3a6f6",
   "metadata": {},
   "outputs": [
    {
     "data": {
      "text/plain": [
       "(2, 3)"
      ]
     },
     "execution_count": 181,
     "metadata": {},
     "output_type": "execute_result"
    }
   ],
   "source": [
    "nums = [11, 1, 2, 7,15]\n",
    "target = 9\n",
    "\n",
    "sol = Solution()\n",
    "sol.twoSum(nums, target)"
   ]
  },
  {
   "cell_type": "code",
   "execution_count": 182,
   "id": "14b7a913-6ce1-44f1-b3f9-d17513b4d2e9",
   "metadata": {},
   "outputs": [
    {
     "name": "stdout",
     "output_type": "stream",
     "text": [
      "882 ns ± 15 ns per loop (mean ± std. dev. of 7 runs, 1,000,000 loops each)\n"
     ]
    }
   ],
   "source": [
    "%%timeit\n",
    "sol.twoSum(nums, target)"
   ]
  },
  {
   "cell_type": "code",
   "execution_count": null,
   "id": "5136594d-07d5-4851-8b15-66f537a06c78",
   "metadata": {},
   "outputs": [],
   "source": []
  },
  {
   "cell_type": "code",
   "execution_count": null,
   "id": "15c32ab8-8b87-4094-b0c2-33ab87d04a02",
   "metadata": {},
   "outputs": [],
   "source": []
  },
  {
   "cell_type": "markdown",
   "id": "e06e121d-2bcf-4170-befd-eca161794a18",
   "metadata": {},
   "source": [
    "# Final score"
   ]
  },
  {
   "cell_type": "markdown",
   "id": "bd3ace58-e8ce-48e3-a439-7a892faaedf7",
   "metadata": {},
   "source": [
    "![Score](../Assets/1%20-%20Leetcode%20scoring%20screenshot.png)"
   ]
  },
  {
   "cell_type": "code",
   "execution_count": null,
   "id": "287e9af5-2d7a-44a8-8055-dc538a1e0ce0",
   "metadata": {},
   "outputs": [],
   "source": []
  },
  {
   "cell_type": "code",
   "execution_count": null,
   "id": "e1afd031-b821-4f67-a62c-5e9877f25fe9",
   "metadata": {},
   "outputs": [],
   "source": []
  }
 ],
 "metadata": {
  "kernelspec": {
   "display_name": "Python 3 (ipykernel)",
   "language": "python",
   "name": "python3"
  },
  "language_info": {
   "codemirror_mode": {
    "name": "ipython",
    "version": 3
   },
   "file_extension": ".py",
   "mimetype": "text/x-python",
   "name": "python",
   "nbconvert_exporter": "python",
   "pygments_lexer": "ipython3",
   "version": "3.10.4"
  }
 },
 "nbformat": 4,
 "nbformat_minor": 5
}
