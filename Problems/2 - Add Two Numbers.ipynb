{
 "cells": [
  {
   "cell_type": "markdown",
   "id": "41dd041f-9695-4457-8add-94a28ede762c",
   "metadata": {},
   "source": [
    "# 1. Two Sum\n",
    "Link: https://leetcode.com/problems/add-two-numbers/ \\\n",
    "Difficulty: Medium\n",
    "***\n",
    "You are given two non-empty linked lists representing two non-negative integers. The digits are stored in reverse order, and each of their nodes contains a single digit. Add the two numbers and return the sum as a linked list.\n",
    "\n",
    "You may assume the two numbers do not contain any leading zero, except the number 0 itself.\n",
    "\n",
    "![diagram](../Assets/2%20-%20addtwonumber1.jpg)\n",
    "\n",
    "Example 1:\n",
    "```\n",
    "Input: l1 = [2,4,3], l2 = [5,6,4]\n",
    "Output: [7,0,8]\n",
    "Explanation: 342 + 465 = 807.\n",
    "```\n",
    "Example 2:\n",
    "```\n",
    "Input: l1 = [0], l2 = [0]\n",
    "Output: [0]\n",
    "```\n",
    "Example 3:\n",
    "```\n",
    "Input: l1 = [9,9,9,9,9,9,9], l2 = [9,9,9,9]\n",
    "Output: [8,9,9,9,0,0,0,1]\n",
    "```\n",
    " \n",
    "\n",
    "Constraints:\n",
    "- The number of nodes in each linked list is in the range [1, 100].\n",
    "- 0 <= Node.val <= 9\n",
    "- It is guaranteed that the list represents a number that does not have leading zeros.\n",
    "\n"
   ]
  },
  {
   "cell_type": "code",
   "execution_count": 1,
   "id": "e4910fb0-69a8-441a-8d8b-abf94811d006",
   "metadata": {},
   "outputs": [],
   "source": [
    "from typing import Optional"
   ]
  },
  {
   "cell_type": "code",
   "execution_count": null,
   "id": "3425b155-dac9-4a00-9aa6-18a6fb9e521e",
   "metadata": {},
   "outputs": [],
   "source": [
    "# Definition for singly-linked list.\n",
    "# class ListNode:\n",
    "#     def __init__(self, val=0, next=None):\n",
    "#         self.val = val\n",
    "#         self.next = next\n",
    "class Solution:\n",
    "    def addTwoNumbers(self, l1: Optional[ListNode], l2: Optional[ListNode]) -> Optional[ListNode]:\n",
    "        "
   ]
  },
  {
   "cell_type": "code",
   "execution_count": null,
   "id": "945cc45c-2d27-47b4-bdf2-ee9a6e6a23d0",
   "metadata": {},
   "outputs": [],
   "source": []
  },
  {
   "cell_type": "code",
   "execution_count": null,
   "id": "6766a014-8abd-413f-94c1-b13c4cbb4d6c",
   "metadata": {},
   "outputs": [],
   "source": []
  },
  {
   "cell_type": "markdown",
   "id": "fbad7b47-eb71-49ff-806b-51da07c5aa4b",
   "metadata": {},
   "source": [
    "# 1. Solution"
   ]
  },
  {
   "cell_type": "markdown",
   "id": "2a5c4e7a-4a34-4e9b-ad45-96f106355892",
   "metadata": {},
   "source": [
    "#### Code"
   ]
  },
  {
   "cell_type": "code",
   "execution_count": 64,
   "id": "59d2b576-10df-4c9a-9464-184f4490c908",
   "metadata": {},
   "outputs": [],
   "source": [
    "# Definition for singly-linked list.\n",
    "class ListNode:\n",
    "    def __init__(self, val=0, next=None):\n",
    "        self.val = val\n",
    "        self.next = next\n",
    "    \n",
    "    def show(self):\n",
    "        current_node = self\n",
    "        result = []\n",
    "        while current_node is not None:\n",
    "            result.append(current_node.val)\n",
    "            current_node = current_node.next\n",
    "        return result\n",
    "    \n",
    "\n",
    "class Solution:\n",
    "    def _listToValue(self, l: ListNode) -> int:\n",
    "        current_node = l\n",
    "        result = ''\n",
    "        while current_node != None:\n",
    "            result += str(current_node.val)\n",
    "            current_node = current_node.next\n",
    "        return int(result[::-1])\n",
    "\n",
    "    \n",
    "    def _valueToList(self, v: int) -> ListNode:\n",
    "        previous_node = None\n",
    "        for c in str(v):\n",
    "            new_node = ListNode(val=int(c), next=previous_node)\n",
    "            previous_node = new_node\n",
    "            \n",
    "        return previous_node\n",
    "            \n",
    "        \n",
    "    def addTwoNumbers(\n",
    "        self, \n",
    "        l1: Optional[ListNode], \n",
    "        l2: Optional[ListNode],\n",
    "    ) -> Optional[ListNode]:\n",
    "        v1, v2 = self._listToValue(l1), self._listToValue(l2)\n",
    "        return self._valueToList(v1 + v2)\n"
   ]
  },
  {
   "cell_type": "markdown",
   "id": "98124a8e-2ac5-4176-aeba-bece3069932d",
   "metadata": {},
   "source": [
    "```\n",
    "[5] + [5] = [0 1]\n",
    "[5 5] + [5 5] = [0 1 1]\n",
    "```"
   ]
  },
  {
   "cell_type": "code",
   "execution_count": null,
   "id": "062c0850-a990-4d02-ab0b-7b968065283b",
   "metadata": {},
   "outputs": [],
   "source": []
  },
  {
   "cell_type": "code",
   "execution_count": null,
   "id": "c1340faf-5388-4785-a8aa-bc09647dd3a7",
   "metadata": {},
   "outputs": [],
   "source": []
  },
  {
   "cell_type": "markdown",
   "id": "0d2146a7-e656-4e3c-91d1-0ad0f780b41d",
   "metadata": {},
   "source": [
    "#### Test"
   ]
  },
  {
   "cell_type": "code",
   "execution_count": 72,
   "id": "7d76f085-d763-4b1f-80c4-ba1fdd602e08",
   "metadata": {},
   "outputs": [],
   "source": [
    "a = ListNode(\n",
    "    val=5,\n",
    "    next=ListNode(\n",
    "        val=5,\n",
    "    ),\n",
    ")"
   ]
  },
  {
   "cell_type": "code",
   "execution_count": 73,
   "id": "b871e880-1c63-44bd-8117-ad88b21df661",
   "metadata": {},
   "outputs": [
    {
     "data": {
      "text/plain": [
       "[0, 1, 1]"
      ]
     },
     "execution_count": 73,
     "metadata": {},
     "output_type": "execute_result"
    }
   ],
   "source": [
    "sol = Solution()\n",
    "\n",
    "r = sol.addTwoNumbers(a, a)\n",
    "r.show()"
   ]
  },
  {
   "cell_type": "code",
   "execution_count": 60,
   "id": "6b41ec53-00a7-409f-9c5a-e9d0a564e815",
   "metadata": {},
   "outputs": [],
   "source": []
  },
  {
   "cell_type": "code",
   "execution_count": null,
   "id": "85460099-674b-4db4-9fa9-cee14f765641",
   "metadata": {},
   "outputs": [],
   "source": []
  },
  {
   "cell_type": "markdown",
   "id": "6a03502e-33e3-47f4-9e5c-545db22c2032",
   "metadata": {},
   "source": [
    "# 2. Solution"
   ]
  },
  {
   "cell_type": "markdown",
   "id": "28e4033c-4b4f-486c-8ab9-f97098c321cb",
   "metadata": {},
   "source": [
    "#### Code"
   ]
  },
  {
   "cell_type": "code",
   "execution_count": 71,
   "id": "4839e381-26cc-4b9b-a6ba-31569ce23773",
   "metadata": {},
   "outputs": [],
   "source": [
    "class Solution:\n",
    "    def _listToValue(self, l: ListNode) -> int:\n",
    "        current_node = a\n",
    "        value = 0\n",
    "        for ix in range(100):\n",
    "            value += current_node.val * 10**ix\n",
    "            current_node = current_node.next\n",
    "            if current_node is None: break\n",
    "        return value\n",
    "\n",
    "    \n",
    "    def _valueToList(self, v: int) -> ListNode:\n",
    "        previous_node = None\n",
    "        for c in str(v):\n",
    "            new_node = ListNode(val=int(c), next=previous_node)\n",
    "            previous_node = new_node\n",
    "            \n",
    "        return previous_node\n",
    "            \n",
    "        \n",
    "    def addTwoNumbers(\n",
    "        self, \n",
    "        l1: Optional[ListNode], \n",
    "        l2: Optional[ListNode],\n",
    "    ) -> Optional[ListNode]:\n",
    "        v1, v2 = self._listToValue(l1), self._listToValue(l2)\n",
    "        return self._valueToList(v1 + v2)"
   ]
  },
  {
   "cell_type": "code",
   "execution_count": null,
   "id": "ce57564e-917e-46f2-9abb-e3a5e966be2b",
   "metadata": {},
   "outputs": [],
   "source": []
  },
  {
   "cell_type": "code",
   "execution_count": null,
   "id": "33a03bdc-c9cd-40c3-9257-875486b39ce0",
   "metadata": {},
   "outputs": [],
   "source": []
  },
  {
   "cell_type": "markdown",
   "id": "25568d98-08a4-4779-b553-4a1216ff29f3",
   "metadata": {},
   "source": [
    "#### Test"
   ]
  },
  {
   "cell_type": "code",
   "execution_count": 74,
   "id": "48c19cfa-64d0-4136-9159-d0c3dc041806",
   "metadata": {},
   "outputs": [],
   "source": [
    "a = ListNode(\n",
    "    val=1,\n",
    "    next=ListNode(\n",
    "        val=8,\n",
    "        next=ListNode(\n",
    "            val=5,\n",
    "        )\n",
    "    ),\n",
    ")"
   ]
  },
  {
   "cell_type": "code",
   "execution_count": 75,
   "id": "a5c72441-a871-40e5-bfce-996de9cae1a3",
   "metadata": {},
   "outputs": [
    {
     "data": {
      "text/plain": [
       "[2, 6, 1, 1]"
      ]
     },
     "execution_count": 75,
     "metadata": {},
     "output_type": "execute_result"
    }
   ],
   "source": [
    "sol = Solution()\n",
    "\n",
    "r = sol.addTwoNumbers(a, a)\n",
    "r.show()"
   ]
  },
  {
   "cell_type": "code",
   "execution_count": null,
   "id": "ebaa8685-6784-42d5-a152-3ea121cf7e1a",
   "metadata": {},
   "outputs": [],
   "source": []
  },
  {
   "cell_type": "code",
   "execution_count": null,
   "id": "1b89f136-5dae-404c-a351-a08770c62399",
   "metadata": {},
   "outputs": [],
   "source": []
  },
  {
   "cell_type": "markdown",
   "id": "d8b23f77-313c-4850-9c67-b3283291d207",
   "metadata": {},
   "source": [
    "# 3. Solution"
   ]
  },
  {
   "cell_type": "markdown",
   "id": "83d500be-4189-4ca7-bcc0-f33eb15c30e0",
   "metadata": {},
   "source": [
    "#### Code"
   ]
  },
  {
   "cell_type": "code",
   "execution_count": 111,
   "id": "1bb248fc-f82b-429d-b3a3-caed0b9fe9fa",
   "metadata": {},
   "outputs": [],
   "source": [
    "class Solution:        \n",
    "    def addTwoNumbers(\n",
    "        self, \n",
    "        l1: Optional[ListNode], \n",
    "        l2: Optional[ListNode],\n",
    "    ) -> Optional[ListNode]:\n",
    "        to_next = 0\n",
    "        result = None\n",
    "        \n",
    "        while to_next or l1 or l2:\n",
    "            val1 = l1.val if l1 else 0\n",
    "            val2 = l2.val if l2 else 0\n",
    "            \n",
    "            to_next, digit = divmod(val1 + val2 + to_next, 10)\n",
    "            new_node = ListNode(digit)\n",
    "            \n",
    "            if result is None:\n",
    "                first_result = result = new_node\n",
    "            else:\n",
    "                result.next = new_node\n",
    "                \n",
    "            result = new_node\n",
    "            \n",
    "            l1 = l1.next if l1 else None\n",
    "            l2 = l2.next if l2 else None\n",
    "        \n",
    "        return first_result"
   ]
  },
  {
   "cell_type": "code",
   "execution_count": null,
   "id": "54a05f6c-52b4-47cd-8f3e-7c4621890c78",
   "metadata": {},
   "outputs": [],
   "source": []
  },
  {
   "cell_type": "code",
   "execution_count": null,
   "id": "62859b74-2067-4136-9489-889be69aac74",
   "metadata": {},
   "outputs": [],
   "source": []
  },
  {
   "cell_type": "markdown",
   "id": "47725874-d33a-4d8f-b556-44232383fe96",
   "metadata": {},
   "source": [
    "#### Test"
   ]
  },
  {
   "cell_type": "code",
   "execution_count": 112,
   "id": "a480bb1f-809a-4f66-9d5a-ac222fc85b02",
   "metadata": {},
   "outputs": [
    {
     "data": {
      "text/plain": [
       "([1, 8, 5], [5, 5])"
      ]
     },
     "execution_count": 112,
     "metadata": {},
     "output_type": "execute_result"
    }
   ],
   "source": [
    "a = ListNode(\n",
    "    val=1,\n",
    "    next=ListNode(\n",
    "        val=8,\n",
    "        next=ListNode(\n",
    "            val=5,\n",
    "        )\n",
    "    ),\n",
    ")\n",
    "b = ListNode(\n",
    "    val=5,\n",
    "    next=ListNode(\n",
    "        val=5,\n",
    "    ),\n",
    ")\n",
    "\n",
    "a.show(), b.show()"
   ]
  },
  {
   "cell_type": "code",
   "execution_count": 113,
   "id": "5746fb44-81ca-41b0-a7bc-10e043f7cdd5",
   "metadata": {},
   "outputs": [
    {
     "data": {
      "text/plain": [
       "[6, 3, 6]"
      ]
     },
     "execution_count": 113,
     "metadata": {},
     "output_type": "execute_result"
    }
   ],
   "source": [
    "sol = Solution()\n",
    "\n",
    "r = sol.addTwoNumbers(a, b)\n",
    "r.show()"
   ]
  },
  {
   "cell_type": "code",
   "execution_count": 114,
   "id": "48b872ad-228f-483b-a475-9c715d0c9da8",
   "metadata": {},
   "outputs": [],
   "source": [
    "def create_nodes(l):\n",
    "    result = None\n",
    "    for d in l:\n",
    "        if result is None:\n",
    "            first_node = result = ListNode(d)\n",
    "        else:\n",
    "            result.next = ListNode(d)\n",
    "            result = result.next\n",
    "    return first_node\n",
    "\n",
    "a = create_nodes([9,9,9,9,9,9,9])\n",
    "b = create_nodes([9,9,9,9])"
   ]
  },
  {
   "cell_type": "code",
   "execution_count": 115,
   "id": "1a1ab8e5-0e62-4299-87ce-f1d756943648",
   "metadata": {},
   "outputs": [
    {
     "data": {
      "text/plain": [
       "[8, 9, 9, 9, 0, 0, 0, 1]"
      ]
     },
     "execution_count": 115,
     "metadata": {},
     "output_type": "execute_result"
    }
   ],
   "source": [
    "sol = Solution()\n",
    "\n",
    "r = sol.addTwoNumbers(a, b)\n",
    "r.show()"
   ]
  },
  {
   "cell_type": "code",
   "execution_count": null,
   "id": "d05123f7-f5bc-4e63-ba73-23b2068c3afa",
   "metadata": {},
   "outputs": [],
   "source": []
  },
  {
   "cell_type": "code",
   "execution_count": null,
   "id": "25f24633-ce24-4a73-b093-50d6f4246785",
   "metadata": {},
   "outputs": [],
   "source": []
  },
  {
   "cell_type": "markdown",
   "id": "ca085717-1699-4bd2-b46c-84edf52b48b4",
   "metadata": {},
   "source": [
    "# Final score"
   ]
  },
  {
   "cell_type": "markdown",
   "id": "160851b0-b760-480b-b8ad-5bd1db77a11c",
   "metadata": {},
   "source": [
    "![Score](../Assets/2%20-%20Leetcode%20scoring%20screenshot.png)"
   ]
  },
  {
   "cell_type": "code",
   "execution_count": null,
   "id": "bb51c9d5-87e1-4183-8e8d-e7e3b7eb807b",
   "metadata": {},
   "outputs": [],
   "source": []
  },
  {
   "cell_type": "code",
   "execution_count": null,
   "id": "55da891d-f19b-4f19-b6a3-e4490ede26ae",
   "metadata": {},
   "outputs": [],
   "source": []
  }
 ],
 "metadata": {
  "kernelspec": {
   "display_name": "Python 3 (ipykernel)",
   "language": "python",
   "name": "python3"
  },
  "language_info": {
   "codemirror_mode": {
    "name": "ipython",
    "version": 3
   },
   "file_extension": ".py",
   "mimetype": "text/x-python",
   "name": "python",
   "nbconvert_exporter": "python",
   "pygments_lexer": "ipython3",
   "version": "3.10.4"
  }
 },
 "nbformat": 4,
 "nbformat_minor": 5
}
