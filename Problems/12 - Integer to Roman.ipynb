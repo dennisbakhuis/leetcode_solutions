{
 "cells": [
  {
   "cell_type": "markdown",
   "id": "6e244793-88e6-49dc-bcc4-d15c6d663190",
   "metadata": {},
   "source": [
    "# 12. Integer to Roman\n",
    "link: https://leetcode.com/problems/integer-to-roman/ \\\n",
    "difficulty: Medium\n",
    "***\n",
    "Roman numerals are represented by seven different symbols: `I`, `V`, `X`, `L`, `C`, `D` and `M`.\n",
    "\n",
    "```\n",
    "Symbol       Value\n",
    "I             1\n",
    "V             5\n",
    "X             10\n",
    "L             50\n",
    "C             100\n",
    "D             500\n",
    "M             1000\n",
    "```\n",
    "\n",
    "For example, `2` is written as `II` in Roman numeral, just two one's added together. `12` is written as `XII`, which is simply `X + II`. The number `27` is written as `XXVII`, which is `XX + V + II`.\n",
    "\n",
    "Roman numerals are usually written largest to smallest from left to right. However, the numeral for four is not `IIII`. Instead, the number four is written as `IV`. Because the one is before the five we subtract it making four. The same principle applies to the number nine, which is written as `IX`. There are six instances where subtraction is used:\n",
    "\n",
    "- `I` can be placed before `V` (5) and `X` (10) to make 4 and 9. \n",
    "- `X` can be placed before `L` (50) and `C` (100) to make 40 and 90. \n",
    "- `C` can be placed before `D` (500) and `M` (1000) to make 400 and 900.\n",
    "\n",
    "Given an integer, convert it to a roman numeral.\n",
    "\n",
    "Example 1:\n",
    "```\n",
    "Input: num = 3\n",
    "Output: \"III\"\n",
    "Explanation: 3 is represented as 3 ones.\n",
    "```\n",
    "Example 2:\n",
    "```\n",
    "Input: num = 58\n",
    "Output: \"LVIII\"\n",
    "Explanation: L = 50, V = 5, III = 3.\n",
    "```\n",
    "Example 3:\n",
    "```\n",
    "Input: num = 1994\n",
    "Output: \"MCMXCIV\"\n",
    "Explanation: M = 1000, CM = 900, XC = 90 and IV = 4.\n",
    "```\n",
    " \n",
    "\n",
    "Constraints:\n",
    "- 1 <= num <= 3999\n"
   ]
  },
  {
   "cell_type": "code",
   "execution_count": 1,
   "id": "7c2f2835-e79b-4814-8b6d-1008b1058c92",
   "metadata": {},
   "outputs": [],
   "source": [
    "class Solution:\n",
    "    def intToRoman(self, num: int) -> str:\n",
    "        pass"
   ]
  },
  {
   "cell_type": "code",
   "execution_count": null,
   "id": "189a9174-18ce-4579-b832-e0893e52b5ce",
   "metadata": {},
   "outputs": [],
   "source": []
  },
  {
   "cell_type": "code",
   "execution_count": null,
   "id": "824dc250-84a2-4643-938d-27b24b3438a3",
   "metadata": {},
   "outputs": [],
   "source": []
  },
  {
   "cell_type": "markdown",
   "id": "c5d66a46-e1e7-4aee-8ffd-9913f6ab52c2",
   "metadata": {},
   "source": [
    "# 1. Solution"
   ]
  },
  {
   "cell_type": "markdown",
   "id": "74a04479-4508-43b9-9ffa-6e8932ff609d",
   "metadata": {},
   "source": [
    "### Code"
   ]
  },
  {
   "cell_type": "code",
   "execution_count": 53,
   "id": "bfa46ebe-ff91-481d-8649-de19f683cc34",
   "metadata": {},
   "outputs": [],
   "source": [
    "class Solution:\n",
    "    VALUES = {\n",
    "        1: 'I',\n",
    "        5: 'V',\n",
    "        10: 'X',\n",
    "        50: 'L',\n",
    "        100: 'C',\n",
    "        500: 'D',\n",
    "        1000: 'M',\n",
    "    }\n",
    "    \n",
    "    \n",
    "    def intToRoman(self, num: int) -> str:\n",
    "        text = ''\n",
    "        for p, k in reversed(self.VALUES.items()):\n",
    "            t = num // p\n",
    "            if t > 0:\n",
    "                num -= t * p\n",
    "                text += t * k\n",
    "\n",
    "        text = (\n",
    "            text\n",
    "            .replace('DCCCC', 'CM')       \n",
    "            .replace('CCCC', 'CD')\n",
    "            .replace('LXXXX', 'XC')\n",
    "            .replace('XXXX', 'XL')\n",
    "            .replace('VIIII', 'IX')\n",
    "            .replace('IIII', 'IV')\n",
    "        )\n",
    "        return text\n",
    "\n"
   ]
  },
  {
   "cell_type": "code",
   "execution_count": null,
   "id": "a706ebed-3eb3-40d7-88bd-bb0271d966f1",
   "metadata": {},
   "outputs": [],
   "source": []
  },
  {
   "cell_type": "code",
   "execution_count": null,
   "id": "a9a7627d-2ece-4a2f-9632-7e7e46cec9c8",
   "metadata": {},
   "outputs": [],
   "source": []
  },
  {
   "cell_type": "markdown",
   "id": "8fa1987b-5a3d-4fa1-be1b-fdb842b6c7cb",
   "metadata": {},
   "source": [
    "### Test solution"
   ]
  },
  {
   "cell_type": "code",
   "execution_count": 54,
   "id": "940ee8bf-550a-4e1a-a2b6-b403abf8c1b2",
   "metadata": {},
   "outputs": [],
   "source": [
    "sol = Solution()"
   ]
  },
  {
   "cell_type": "code",
   "execution_count": 55,
   "id": "b1e2759a-8fa5-499e-9d4a-d388fc6186f3",
   "metadata": {},
   "outputs": [],
   "source": [
    "with open('../Data/13 - Roman numerals.txt', 'r') as f:\n",
    "    data = dict([\n",
    "        tuple(y.strip() for y in x.split('='))\n",
    "        for ix, x in enumerate(f.readlines())\n",
    "        if '=' in x\n",
    "    ])"
   ]
  },
  {
   "cell_type": "code",
   "execution_count": 57,
   "id": "1b8d95ba-736b-4753-9ce4-66d76ed1f2b8",
   "metadata": {},
   "outputs": [
    {
     "name": "stdout",
     "output_type": "stream",
     "text": [
      "6.43 ms ± 116 µs per loop (mean ± std. dev. of 7 runs, 100 loops each)\n"
     ]
    }
   ],
   "source": [
    "%%timeit\n",
    "for int_value_str, roman_str in data.items():\n",
    "    int_value = int(int_value_str)\n",
    "    generated = sol.intToRoman(int_value)\n",
    "    if generated != roman_str:\n",
    "        print(f\"Error: {int_value} is not {roman_str} but {generated}\")\n",
    "        break"
   ]
  },
  {
   "cell_type": "code",
   "execution_count": null,
   "id": "87266c8c-19e3-44fc-8bb7-a26ad34c791c",
   "metadata": {},
   "outputs": [],
   "source": []
  },
  {
   "cell_type": "code",
   "execution_count": null,
   "id": "491aa805-c106-40ea-b2d5-3f5f9d22b8eb",
   "metadata": {},
   "outputs": [],
   "source": []
  },
  {
   "cell_type": "code",
   "execution_count": null,
   "id": "2eec6d27-74a5-41d5-958e-04e7bf76b71e",
   "metadata": {},
   "outputs": [],
   "source": []
  },
  {
   "cell_type": "code",
   "execution_count": null,
   "id": "b3ee97b9-84f1-4109-94d0-61b876cc9ec7",
   "metadata": {},
   "outputs": [],
   "source": []
  },
  {
   "cell_type": "code",
   "execution_count": null,
   "id": "06cc2b6a-efe6-4c12-bc52-0ebae2876378",
   "metadata": {},
   "outputs": [],
   "source": []
  },
  {
   "cell_type": "code",
   "execution_count": null,
   "id": "ddc32a1a-ccd6-4d32-9066-4eef8c81a6bb",
   "metadata": {},
   "outputs": [],
   "source": []
  },
  {
   "cell_type": "code",
   "execution_count": null,
   "id": "5fc9948a-a4a7-43a7-bd99-81b8a151ff2f",
   "metadata": {},
   "outputs": [],
   "source": []
  },
  {
   "cell_type": "code",
   "execution_count": null,
   "id": "ed1b0895-6a91-45ea-8f6d-6d78152e3a84",
   "metadata": {},
   "outputs": [],
   "source": []
  },
  {
   "cell_type": "code",
   "execution_count": null,
   "id": "4d8cd62f-51d4-4378-8492-8aa3ead719b1",
   "metadata": {},
   "outputs": [],
   "source": []
  },
  {
   "cell_type": "markdown",
   "id": "30bafe97-d758-4233-b0a1-3bd6ef43bd43",
   "metadata": {},
   "source": [
    "# Final score"
   ]
  },
  {
   "cell_type": "markdown",
   "id": "84e5e1f0-e8ce-4ae1-a122-5cd41ba89108",
   "metadata": {},
   "source": [
    "![Score](../Assets/12%20-%20Leetcode%20scoring%20screenshot.png)"
   ]
  },
  {
   "cell_type": "code",
   "execution_count": null,
   "id": "2d5f4dc5-dd4a-48bb-9feb-1edbc2ee15b6",
   "metadata": {},
   "outputs": [],
   "source": []
  },
  {
   "cell_type": "code",
   "execution_count": null,
   "id": "31925e62-66e2-46e6-b1ea-2da1f8409b7b",
   "metadata": {},
   "outputs": [],
   "source": []
  }
 ],
 "metadata": {
  "kernelspec": {
   "display_name": "Python 3 (ipykernel)",
   "language": "python",
   "name": "python3"
  },
  "language_info": {
   "codemirror_mode": {
    "name": "ipython",
    "version": 3
   },
   "file_extension": ".py",
   "mimetype": "text/x-python",
   "name": "python",
   "nbconvert_exporter": "python",
   "pygments_lexer": "ipython3",
   "version": "3.9.5"
  }
 },
 "nbformat": 4,
 "nbformat_minor": 5
}
