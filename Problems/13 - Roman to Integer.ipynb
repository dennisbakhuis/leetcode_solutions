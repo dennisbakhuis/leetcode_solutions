{
 "cells": [
  {
   "cell_type": "markdown",
   "id": "6e244793-88e6-49dc-bcc4-d15c6d663190",
   "metadata": {},
   "source": [
    "# 13. Roman to Integer\n",
    "link: https://leetcode.com/problems/roman-to-integer/ \\\n",
    "difficulty: easy\n",
    "***\n",
    "Roman numerals are represented by seven different symbols: `I`, `V`, `X`, `L`, `C`, `D` and `M`.\n",
    "\n",
    "```\n",
    "Symbol       Value\n",
    "I             1\n",
    "V             5\n",
    "X             10\n",
    "L             50\n",
    "C             100\n",
    "D             500\n",
    "M             1000\n",
    "```\n",
    "\n",
    "For example, `2` is written as `II` in Roman numeral, just two one's added together. `12` is written as `XII`, which is simply `X + II`. The number `27` is written as `XXVII`, which is `XX + V + II`.\n",
    "\n",
    "Roman numerals are usually written largest to smallest from left to right. However, the numeral for four is not `IIII`. Instead, the number four is written as `IV`. Because the one is before the five we subtract it making four. The same principle applies to the number nine, which is written as `IX`. There are six instances where subtraction is used:\n",
    "\n",
    "- `I` can be placed before `V` (5) and `X` (10) to make 4 and 9. \n",
    "- `X` can be placed before `L` (50) and `C` (100) to make 40 and 90. \n",
    "- `C` can be placed before `D` (500) and `M` (1000) to make 400 and 900.\n",
    "\n",
    "Given a roman numeral, convert it to an integer.\n",
    "\n",
    " \n",
    "\n",
    "Example 1:\n",
    "```\n",
    "Input: s = \"III\"\n",
    "Output: 3\n",
    "Explanation: III = 3.\n",
    "```\n",
    "\n",
    "Example 2:\n",
    "```\n",
    "Input: s = \"LVIII\"\n",
    "Output: 58\n",
    "Explanation: L = 50, V= 5, III = 3.\n",
    "```\n",
    "Example 3:\n",
    "```\n",
    "Input: s = \"MCMXCIV\"\n",
    "Output: 1994\n",
    "Explanation: M = 1000, CM = 900, XC = 90 and IV = 4.\n",
    "```\n",
    " \n",
    "\n",
    "Constraints:\n",
    "- 1 <= s.length <= 15\n",
    "- s contains only the characters ('I', 'V', 'X', 'L', 'C', 'D', 'M').\n",
    "- It is guaranteed that s is a valid roman numeral in the range [1, 3999]."
   ]
  },
  {
   "cell_type": "code",
   "execution_count": 2,
   "id": "7c2f2835-e79b-4814-8b6d-1008b1058c92",
   "metadata": {},
   "outputs": [],
   "source": [
    "class Solution:\n",
    "    def romanToInt(self, s: str) -> int:\n",
    "        pass"
   ]
  },
  {
   "cell_type": "code",
   "execution_count": null,
   "id": "189a9174-18ce-4579-b832-e0893e52b5ce",
   "metadata": {},
   "outputs": [],
   "source": []
  },
  {
   "cell_type": "code",
   "execution_count": null,
   "id": "824dc250-84a2-4643-938d-27b24b3438a3",
   "metadata": {},
   "outputs": [],
   "source": []
  },
  {
   "cell_type": "markdown",
   "id": "c5d66a46-e1e7-4aee-8ffd-9913f6ab52c2",
   "metadata": {},
   "source": [
    "# 1. Solution"
   ]
  },
  {
   "cell_type": "markdown",
   "id": "74a04479-4508-43b9-9ffa-6e8932ff609d",
   "metadata": {},
   "source": [
    "### Code"
   ]
  },
  {
   "cell_type": "code",
   "execution_count": 145,
   "id": "bfa46ebe-ff91-481d-8649-de19f683cc34",
   "metadata": {},
   "outputs": [],
   "source": [
    "class Solution:\n",
    "    VALUES = {\n",
    "        'I': 1,\n",
    "        'V': 5,\n",
    "        'X': 10,\n",
    "        'L': 50,\n",
    "        'C': 100,\n",
    "        'D': 500,\n",
    "        'M': 1000,\n",
    "    }\n",
    "    \n",
    "    SPECIALS = {\n",
    "        'IV': 4,\n",
    "        'IX': 9,\n",
    "        'XL': 40,\n",
    "        'XC': 90,\n",
    "        'CD': 400,\n",
    "        'CM': 900,\n",
    "    }\n",
    "    \n",
    "    \n",
    "    def __init__(self):\n",
    "        self.roman = self.VALUES | self.SPECIALS\n",
    "\n",
    "\n",
    "    def _find_and_remove(\n",
    "        self,\n",
    "        key: str,\n",
    "        text: str,\n",
    "        value: int=0,\n",
    "    ):\n",
    "        ix = text.find(key)\n",
    "        while ix != -1:\n",
    "            value += self.roman[key]\n",
    "            text = text[:ix] + text[ix + len(key):]\n",
    "            ix = text.find(key)\n",
    "        return (text, value)\n",
    "\n",
    "    \n",
    "    def romanToInt(self, s: str) -> int:\n",
    "        value = 0\n",
    "        for key in reversed(self.roman):\n",
    "            (s, value) = self._find_and_remove(key, s, value)\n",
    "        return value\n",
    "\n"
   ]
  },
  {
   "cell_type": "code",
   "execution_count": null,
   "id": "a706ebed-3eb3-40d7-88bd-bb0271d966f1",
   "metadata": {},
   "outputs": [],
   "source": []
  },
  {
   "cell_type": "code",
   "execution_count": null,
   "id": "a9a7627d-2ece-4a2f-9632-7e7e46cec9c8",
   "metadata": {},
   "outputs": [],
   "source": []
  },
  {
   "cell_type": "markdown",
   "id": "8fa1987b-5a3d-4fa1-be1b-fdb842b6c7cb",
   "metadata": {},
   "source": [
    "### Test solution"
   ]
  },
  {
   "cell_type": "code",
   "execution_count": 146,
   "id": "940ee8bf-550a-4e1a-a2b6-b403abf8c1b2",
   "metadata": {},
   "outputs": [],
   "source": [
    "sol = Solution()"
   ]
  },
  {
   "cell_type": "code",
   "execution_count": 147,
   "id": "b1e2759a-8fa5-499e-9d4a-d388fc6186f3",
   "metadata": {},
   "outputs": [],
   "source": [
    "with open('../Data/13 - Roman numerals.txt', 'r') as f:\n",
    "    data = dict([\n",
    "        reversed(tuple(y.strip() for y in x.split('=')))\n",
    "        for ix, x in enumerate(f.readlines())\n",
    "        if '=' in x\n",
    "    ])"
   ]
  },
  {
   "cell_type": "code",
   "execution_count": 148,
   "id": "1b8d95ba-736b-4753-9ce4-66d76ed1f2b8",
   "metadata": {},
   "outputs": [
    {
     "name": "stdout",
     "output_type": "stream",
     "text": [
      "18.9 ms ± 138 µs per loop (mean ± std. dev. of 7 runs, 100 loops each)\n"
     ]
    }
   ],
   "source": [
    "%%timeit\n",
    "for roman_str, expected_str in data.items():\n",
    "    expected = int(expected_str)\n",
    "    calculated = sol.romanToInt(roman_str)\n",
    "    if calculated != expected:\n",
    "        print(f\"Error: {roman_str} is not {calculated} but {expected}\")\n",
    "        break"
   ]
  },
  {
   "cell_type": "code",
   "execution_count": null,
   "id": "87266c8c-19e3-44fc-8bb7-a26ad34c791c",
   "metadata": {},
   "outputs": [],
   "source": []
  },
  {
   "cell_type": "code",
   "execution_count": null,
   "id": "4d8cd62f-51d4-4378-8492-8aa3ead719b1",
   "metadata": {},
   "outputs": [],
   "source": []
  },
  {
   "cell_type": "markdown",
   "id": "7e5df895-9673-4f3a-b213-135f2d09379e",
   "metadata": {},
   "source": [
    "# 2. Solution"
   ]
  },
  {
   "cell_type": "markdown",
   "id": "6ece68e9-c92d-45d4-937d-7954e4090f25",
   "metadata": {},
   "source": [
    "### Code"
   ]
  },
  {
   "cell_type": "code",
   "execution_count": 139,
   "id": "da0465dc-6d05-487b-8310-79a172406fa8",
   "metadata": {},
   "outputs": [],
   "source": [
    "class Solution:\n",
    "    VALUES = {\n",
    "        'I': 1,\n",
    "        'V': 5,\n",
    "        'X': 10,\n",
    "        'L': 50,\n",
    "        'C': 100,\n",
    "        'D': 500,\n",
    "        'M': 1000,\n",
    "    }\n",
    "    \n",
    "    SPECIALS = {\n",
    "        'I': {'V': 4, 'X':9},\n",
    "        'X': {'L': 40, 'C': 90},\n",
    "        'C': {'D': 400, 'M': 900},\n",
    "    }\n",
    "        \n",
    "    def romanToInt(self, s: str) -> int:\n",
    "        value = 0\n",
    "        skip = False\n",
    "\n",
    "        for c, nc in zip(s, s[1:] + ' '):\n",
    "            if skip:\n",
    "                skip = False\n",
    "                continue\n",
    "            if c in self.SPECIALS:\n",
    "                if nc in self.SPECIALS[c]:\n",
    "                    value += self.SPECIALS[c][nc]\n",
    "                    skip = True\n",
    "                else:\n",
    "                    value += self.VALUES[c]\n",
    "            else:\n",
    "                value += self.VALUES[c]\n",
    "        return value"
   ]
  },
  {
   "cell_type": "code",
   "execution_count": null,
   "id": "38266c0c-95cb-44b0-9357-6954ac919aac",
   "metadata": {},
   "outputs": [],
   "source": []
  },
  {
   "cell_type": "code",
   "execution_count": null,
   "id": "5ee0d9f1-de4f-4247-ac5f-9d3fcd735274",
   "metadata": {},
   "outputs": [],
   "source": []
  },
  {
   "cell_type": "markdown",
   "id": "f29f6bb2-1702-48e5-8afe-a41d330ba3bf",
   "metadata": {},
   "source": [
    "### Test solution"
   ]
  },
  {
   "cell_type": "code",
   "execution_count": 140,
   "id": "2024468c-977b-42cd-945b-e974757bf821",
   "metadata": {},
   "outputs": [],
   "source": [
    "sol = Solution()"
   ]
  },
  {
   "cell_type": "code",
   "execution_count": 141,
   "id": "ced57329-fd9a-4030-ae4d-9278262dfa0e",
   "metadata": {},
   "outputs": [],
   "source": [
    "with open('../Data/13 - Roman numerals.txt', 'r') as f:\n",
    "    data = dict([\n",
    "        reversed(tuple(y.strip() for y in x.split('=')))\n",
    "        for ix, x in enumerate(f.readlines())\n",
    "        if '=' in x\n",
    "    ])"
   ]
  },
  {
   "cell_type": "code",
   "execution_count": 144,
   "id": "8a932fcc-5226-41b0-8b47-f77db9497022",
   "metadata": {},
   "outputs": [
    {
     "name": "stdout",
     "output_type": "stream",
     "text": [
      "5.55 ms ± 56.2 µs per loop (mean ± std. dev. of 7 runs, 100 loops each)\n"
     ]
    }
   ],
   "source": [
    "%%timeit\n",
    "for roman_str, expected_str in data.items():\n",
    "    expected = int(expected_str)\n",
    "    calculated = sol.romanToInt(roman_str)\n",
    "    if calculated != expected:\n",
    "        print(f\"Error: {roman_str} is not {calculated} but {expected}\")\n",
    "        break"
   ]
  },
  {
   "cell_type": "code",
   "execution_count": null,
   "id": "f32f4182-63f6-4b35-827c-a0a978ed678f",
   "metadata": {},
   "outputs": [],
   "source": []
  },
  {
   "cell_type": "code",
   "execution_count": null,
   "id": "5deba712-e42f-434a-8aad-421f932dd9e0",
   "metadata": {},
   "outputs": [],
   "source": []
  },
  {
   "cell_type": "markdown",
   "id": "7a17c293-d223-47b5-acad-857a9f31283a",
   "metadata": {},
   "source": [
    "# 3. Solution"
   ]
  },
  {
   "cell_type": "markdown",
   "id": "ea06207a-cc55-481f-97c8-b3b025e36510",
   "metadata": {},
   "source": [
    "### Code"
   ]
  },
  {
   "cell_type": "code",
   "execution_count": 158,
   "id": "e7e97f33-a012-4cd9-a808-0ecb47109e0a",
   "metadata": {},
   "outputs": [],
   "source": [
    "class Solution:\n",
    "    VALUES = {\n",
    "        'I': 1,\n",
    "        'V': 5,\n",
    "        'X': 10,\n",
    "        'L': 50,\n",
    "        'C': 100,\n",
    "        'D': 500,\n",
    "        'M': 1000,\n",
    "    }\n",
    "\n",
    "        \n",
    "    def romanToInt(self, s: str) -> int:\n",
    "        text = (\n",
    "            s\n",
    "            .replace('IV', 'IIII')\n",
    "            .replace('IX', 'VIIII')\n",
    "            .replace('XL', 'XXXX')\n",
    "            .replace('XC', 'LXXXX')\n",
    "            .replace('CD', 'CCCC')\n",
    "            .replace('CM', 'DCCCC')       \n",
    "        )\n",
    "        \n",
    "        value = sum([\n",
    "            self.VALUES[c]\n",
    "            for c in text\n",
    "        ])\n",
    "\n",
    "        return value"
   ]
  },
  {
   "cell_type": "code",
   "execution_count": null,
   "id": "eb8bc52f-7f30-4023-8357-c8ed1b39cee5",
   "metadata": {},
   "outputs": [],
   "source": []
  },
  {
   "cell_type": "code",
   "execution_count": null,
   "id": "ee031c08-f80c-4cd5-998c-a828840a87b7",
   "metadata": {},
   "outputs": [],
   "source": []
  },
  {
   "cell_type": "markdown",
   "id": "f6b94b3b-c9c4-4e7d-8e17-480af22d3f9f",
   "metadata": {},
   "source": [
    "### Test solution"
   ]
  },
  {
   "cell_type": "code",
   "execution_count": 159,
   "id": "9b1b1e21-6ec9-4a66-8e78-dec5e20e31dc",
   "metadata": {},
   "outputs": [],
   "source": [
    "sol = Solution()"
   ]
  },
  {
   "cell_type": "code",
   "execution_count": 160,
   "id": "25ef0dff-48ee-4cf6-a5c0-9c34da118d89",
   "metadata": {},
   "outputs": [],
   "source": [
    "with open('../Data/13 - Roman numerals.txt', 'r') as f:\n",
    "    data = dict([\n",
    "        reversed(tuple(y.strip() for y in x.split('=')))\n",
    "        for ix, x in enumerate(f.readlines())\n",
    "        if '=' in x\n",
    "    ])"
   ]
  },
  {
   "cell_type": "code",
   "execution_count": 161,
   "id": "47689ea1-36de-45b2-beb5-6bedc1e9fe08",
   "metadata": {},
   "outputs": [
    {
     "name": "stdout",
     "output_type": "stream",
     "text": [
      "4.69 ms ± 55.5 µs per loop (mean ± std. dev. of 7 runs, 100 loops each)\n"
     ]
    }
   ],
   "source": [
    "%%timeit\n",
    "for roman_str, expected_str in data.items():\n",
    "    expected = int(expected_str)\n",
    "    calculated = sol.romanToInt(roman_str)\n",
    "    if calculated != expected:\n",
    "        print(f\"Error: {roman_str} is not {calculated} but {expected}\")\n",
    "        break"
   ]
  },
  {
   "cell_type": "code",
   "execution_count": null,
   "id": "48f8ada9-3638-4b14-bf34-dce7e0289ef6",
   "metadata": {},
   "outputs": [],
   "source": []
  },
  {
   "cell_type": "code",
   "execution_count": null,
   "id": "2679dd5a-bc15-479b-a415-f99a9eaa009a",
   "metadata": {},
   "outputs": [],
   "source": []
  },
  {
   "cell_type": "markdown",
   "id": "30bafe97-d758-4233-b0a1-3bd6ef43bd43",
   "metadata": {},
   "source": [
    "# Final score"
   ]
  },
  {
   "cell_type": "markdown",
   "id": "84e5e1f0-e8ce-4ae1-a122-5cd41ba89108",
   "metadata": {},
   "source": [
    "![Score](../Assets/13%20-%20Leetcode%20scoring%20screenshot.png)"
   ]
  },
  {
   "cell_type": "code",
   "execution_count": null,
   "id": "2d5f4dc5-dd4a-48bb-9feb-1edbc2ee15b6",
   "metadata": {},
   "outputs": [],
   "source": []
  },
  {
   "cell_type": "code",
   "execution_count": null,
   "id": "31925e62-66e2-46e6-b1ea-2da1f8409b7b",
   "metadata": {},
   "outputs": [],
   "source": []
  }
 ],
 "metadata": {
  "kernelspec": {
   "display_name": "Python 3 (ipykernel)",
   "language": "python",
   "name": "python3"
  },
  "language_info": {
   "codemirror_mode": {
    "name": "ipython",
    "version": 3
   },
   "file_extension": ".py",
   "mimetype": "text/x-python",
   "name": "python",
   "nbconvert_exporter": "python",
   "pygments_lexer": "ipython3",
   "version": "3.9.5"
  }
 },
 "nbformat": 4,
 "nbformat_minor": 5
}
